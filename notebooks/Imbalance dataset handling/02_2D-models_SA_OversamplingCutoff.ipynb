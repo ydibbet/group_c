{
 "cells": [
  {
   "cell_type": "code",
   "execution_count": 8,
   "metadata": {},
   "outputs": [],
   "source": [
    "from mads_datasets.base import BaseDatastreamer\n",
    "from mltrainer.preprocessors import BasePreprocessor\n",
    "from pathlib import Path\n",
    "import pandas as pd\n",
    "import seaborn as sns\n",
    "from sklearn.metrics import confusion_matrix\n",
    "from torch import nn\n",
    "import torch\n",
    "import numpy as np\n",
    "import tomllib\n",
    "\n",
    "from mads_hackathon import datasets, metrics"
   ]
  },
  {
   "cell_type": "markdown",
   "metadata": {},
   "source": [
    "First, go to the `config.toml` file and change the `dev` value to your name. Please use `firstname_lastname` format. \n",
    "In addition to that, change the `port` value to the port of your team."
   ]
  },
  {
   "cell_type": "code",
   "execution_count": 9,
   "metadata": {},
   "outputs": [
    {
     "name": "stdout",
     "output_type": "stream",
     "text": [
      "Using http://145.38.195.42:5002 as mlfow uri\n",
      "Using dev-Sven as dev name\n"
     ]
    }
   ],
   "source": [
    "\n",
    "configfile = Path(\"config.toml\")\n",
    "with configfile.open(\"rb\") as f:\n",
    "    tomlconfig = tomllib.load(f)\n",
    "\n",
    "assert tomlconfig[\"dev\"] != \"dev\", ValueError(\"Please set dev in config.toml to your own name\")\n",
    "assert tomlconfig[\"port\"] != \"none\", ValueError(\"Please set port in config.toml to your own port\")\n",
    "uri = tomlconfig[\"mlflow_uri\"] + \":\" + tomlconfig[\"port\"]\n",
    "dev = tomlconfig[\"dev\"]\n",
    "print(f\"Using {uri} as mlfow uri\")\n",
    "print(f\"Using {dev} as dev name\")"
   ]
  },
  {
   "cell_type": "markdown",
   "metadata": {},
   "source": [
    "Load the datasets"
   ]
  },
  {
   "cell_type": "code",
   "execution_count": 10,
   "metadata": {},
   "outputs": [
    {
     "data": {
      "text/plain": [
       "(True, True)"
      ]
     },
     "execution_count": 10,
     "metadata": {},
     "output_type": "execute_result"
    }
   ],
   "source": [
    "datadir = Path('/home/svelthuis/Hackathon/group_c/hackathon-data/')\n",
    "trainfile = (datadir / \"heart_big_train.parq\").resolve()\n",
    "validfile = (datadir / \"heart_big_valid.parq\").resolve()\n",
    "trainfile.exists(), validfile.exists()"
   ]
  },
  {
   "cell_type": "markdown",
   "metadata": {},
   "source": [
    "Change the backend, if you have one."
   ]
  },
  {
   "cell_type": "code",
   "execution_count": 11,
   "metadata": {},
   "outputs": [
    {
     "name": "stdout",
     "output_type": "stream",
     "text": [
      "using cuda\n"
     ]
    }
   ],
   "source": [
    "import torch\n",
    "if torch.backends.mps.is_available() and torch.backends.mps.is_built():\n",
    "    device = torch.device(\"mps\")\n",
    "    print(\"Using MPS\")\n",
    "elif torch.cuda.is_available():\n",
    "    device = \"cuda:0\"\n",
    "    print(\"using cuda\")\n",
    "else:\n",
    "    device = \"cpu\"\n",
    "    print(\"using cpu\")"
   ]
  },
  {
   "cell_type": "code",
   "execution_count": 12,
   "metadata": {},
   "outputs": [
    {
     "data": {
      "text/plain": [
       "(tensor([  1.2081,  39.3855,  15.1268, 136.5897,  13.6144], device='cuda:0'),\n",
       " tensor([0.0121, 0.3939, 0.1513, 1.3659, 0.1361], device='cuda:0'))"
      ]
     },
     "execution_count": 12,
     "metadata": {},
     "output_type": "execute_result"
    }
   ],
   "source": [
    "import torch\n",
    "\n",
    "train_df = pd.read_parquet(trainfile)\n",
    "train_percentages = train_df.target.value_counts(normalize=True).sort_index() * 100\n",
    "weights1 = torch.tensor((100.0 / train_percentages).to_numpy()).float().to(device)\n",
    "weights2 = torch.tensor((1.0 / train_percentages).to_numpy()).float().to(device)\n",
    "weights1, weights2"
   ]
  },
  {
   "cell_type": "markdown",
   "metadata": {},
   "source": [
    "Change the 1D data into a 2D matrix with the HeartDataset2D class. See `src/mads_hackathon/datasets.py` for more information."
   ]
  },
  {
   "cell_type": "code",
   "execution_count": 13,
   "metadata": {},
   "outputs": [],
   "source": [
    "matrixshape = (3, 48)\n",
    "traindataset = datasets.HeartDataset2D_balanced_cutoff(trainfile, target=\"target\", samplingmethod=\"oversample\", shape=matrixshape)\n",
    "testdataset = datasets.HeartDataset2D_cutoff(validfile, target=\"target\", shape=matrixshape)\n",
    "traindataset.to(device)\n",
    "testdataset.to(device)\n"
   ]
  },
  {
   "cell_type": "markdown",
   "metadata": {},
   "source": [
    "Let's see how that works. \n",
    "Compare this to the 1D data from notebook `01_explore-heart.ipynb`"
   ]
  },
  {
   "cell_type": "code",
   "execution_count": 14,
   "metadata": {},
   "outputs": [
    {
     "data": {
      "text/plain": [
       "(torch.Size([1, 3, 48]), tensor(0, device='cuda:0'))"
      ]
     },
     "execution_count": 14,
     "metadata": {},
     "output_type": "execute_result"
    },
    {
     "data": {
      "image/png": "[encoded data removed]",
      "text/plain": [
       "<Figure size 640x480 with 2 Axes>"
      ]
     },
     "metadata": {},
     "output_type": "display_data"
    }
   ],
   "source": [
    "x, y = traindataset[0]\n",
    "# Assuming your tensor is named 'tensor'\n",
    "viz = x.squeeze().cpu().numpy()\n",
    "sns.heatmap(viz, cmap='rainbow')\n",
    "x.shape, y"
   ]
  },
  {
   "cell_type": "markdown",
   "metadata": {},
   "source": [
    "First, we set the config, then load into a streamer"
   ]
  },
  {
   "cell_type": "code",
   "execution_count": 15,
   "metadata": {},
   "outputs": [
    {
     "data": {
      "text/plain": [
       "CNNConfig(matrixshape=(3, 48), batchsize=64, input_channels=1, hidden=16, kernel_size=3, maxpool=2, num_layers=1, num_classes=5)"
      ]
     },
     "execution_count": 15,
     "metadata": {},
     "output_type": "execute_result"
    }
   ],
   "source": [
    "from mads_hackathon.models import CNNConfig as Config\n",
    "\n",
    "config = Config(\n",
    "    matrixshape = (3,48),\n",
    "    batchsize = 64,\n",
    "    input_channels = 1,\n",
    "    hidden = 16,\n",
    "    kernel_size = 3,\n",
    "    maxpool = 2,\n",
    "    num_layers = 1,\n",
    "    num_classes = 5,\n",
    ")\n",
    "config"
   ]
  },
  {
   "cell_type": "code",
   "execution_count": 16,
   "metadata": {},
   "outputs": [
    {
     "data": {
      "text/plain": [
       "(5661, 171)"
      ]
     },
     "execution_count": 16,
     "metadata": {},
     "output_type": "execute_result"
    }
   ],
   "source": [
    "trainstreamer = BaseDatastreamer(traindataset, preprocessor = BasePreprocessor(), batchsize=config.batchsize)\n",
    "teststreamer = BaseDatastreamer(testdataset, preprocessor = BasePreprocessor(), batchsize=config.batchsize)\n",
    "len(trainstreamer), len(teststreamer)"
   ]
  },
  {
   "cell_type": "markdown",
   "metadata": {},
   "source": [
    "Let's check the shape"
   ]
  },
  {
   "cell_type": "code",
   "execution_count": 17,
   "metadata": {},
   "outputs": [
    {
     "data": {
      "text/plain": [
       "(torch.Size([64, 1, 3, 48]), torch.Size([64]))"
      ]
     },
     "execution_count": 17,
     "metadata": {},
     "output_type": "execute_result"
    }
   ],
   "source": [
    "x, y = next(trainstreamer.stream())\n",
    "x.shape, y.shape"
   ]
  },
  {
   "cell_type": "markdown",
   "metadata": {},
   "source": [
    "We can load the CNN model. It uses a ConvBlock class that is a wrapper around a Conv2D and ReLU stack.\n",
    "The ConvBlock makes it easier to stack block in the CNN model, see `src/mads_hackathon/models.py` for the implementation.\n",
    "\n",
    "This is just a initial setup: please experiment with other architectures like:\n",
    "- adding ideas like resnet, googlenet, squeeze-excite, etc.\n",
    "- add additional layers like dropout, batchnorm, etc.\n",
    "- experiment with different ways to go from 4D to 2D tensors"
   ]
  },
  {
   "cell_type": "code",
   "execution_count": 18,
   "metadata": {},
   "outputs": [
    {
     "name": "stdout",
     "output_type": "stream",
     "text": [
      "Calculated matrix size: 24\n",
      "Caluclated flatten size: 384\n"
     ]
    }
   ],
   "source": [
    "from mads_hackathon.models import CNN\n",
    "model = CNN(config)"
   ]
  },
  {
   "cell_type": "markdown",
   "metadata": {},
   "source": [
    "Let's check the architecture"
   ]
  },
  {
   "cell_type": "code",
   "execution_count": 19,
   "metadata": {},
   "outputs": [
    {
     "data": {
      "text/plain": [
       "==========================================================================================\n",
       "Layer (type:depth-idx)                   Output Shape              Param #\n",
       "==========================================================================================\n",
       "CNN                                      [64, 5]                   --\n",
       "├─ModuleList: 1-1                        --                        --\n",
       "│    └─ConvBlock: 2-1                    [64, 16, 3, 48]           --\n",
       "│    │    └─Sequential: 3-1              [64, 16, 3, 48]           2,480\n",
       "│    └─ConvBlock: 2-2                    [64, 16, 3, 48]           --\n",
       "│    │    └─Sequential: 3-2              [64, 16, 3, 48]           4,640\n",
       "│    └─ReLU: 2-3                         [64, 16, 3, 48]           --\n",
       "│    └─MaxPool2d: 2-4                    [64, 16, 1, 24]           --\n",
       "├─Sequential: 1-2                        [64, 5]                   --\n",
       "│    └─Flatten: 2-5                      [64, 384]                 --\n",
       "│    └─Linear: 2-6                       [64, 16]                  6,160\n",
       "│    └─ReLU: 2-7                         [64, 16]                  --\n",
       "│    └─Linear: 2-8                       [64, 5]                   85\n",
       "==========================================================================================\n",
       "Total params: 13,365\n",
       "Trainable params: 13,365\n",
       "Non-trainable params: 0\n",
       "Total mult-adds (Units.MEGABYTES): 66.02\n",
       "==========================================================================================\n",
       "Input size (MB): 0.04\n",
       "Forward/backward pass size (MB): 4.73\n",
       "Params size (MB): 0.05\n",
       "Estimated Total Size (MB): 4.82\n",
       "=========================================================================================="
      ]
     },
     "execution_count": 19,
     "metadata": {},
     "output_type": "execute_result"
    }
   ],
   "source": [
    "from torchinfo import summary\n",
    "summary(model, input_size=(config.batchsize, 1, *config.matrixshape))"
   ]
  },
  {
   "cell_type": "markdown",
   "metadata": {},
   "source": [
    "And test if the model works"
   ]
  },
  {
   "cell_type": "code",
   "execution_count": 20,
   "metadata": {},
   "outputs": [
    {
     "data": {
      "text/plain": [
       "torch.Size([64, 5])"
      ]
     },
     "execution_count": 20,
     "metadata": {},
     "output_type": "execute_result"
    }
   ],
   "source": [
    "model.to(device)\n",
    "yhat = model(x)\n",
    "yhat.shape"
   ]
  },
  {
   "cell_type": "markdown",
   "metadata": {},
   "source": [
    "The data is unbalanced, so we are interested in much more than just accuracy.\n",
    "See https://scikit-learn.org/stable/modules/generated/sklearn.metrics.f1_score.html for more information on the F1 micro/macro score.\n",
    "See `src/mads_hackathon/metrics.py` for the implementation. You might want to add more metrics, or change the settings for `average`"
   ]
  },
  {
   "cell_type": "code",
   "execution_count": 21,
   "metadata": {},
   "outputs": [
    {
     "name": "stdout",
     "output_type": "stream",
     "text": [
      "F1scoremicro\n"
     ]
    }
   ],
   "source": [
    "f1micro = metrics.F1Score(average='micro')\n",
    "f1macro = metrics.F1Score(average='macro')\n",
    "precision = metrics.Precision(average='macro')\n",
    "recall = metrics.Recall('macro')\n",
    "accuracy = metrics.Accuracy()\n",
    "print(f1micro)"
   ]
  },
  {
   "cell_type": "markdown",
   "metadata": {},
   "source": [
    "We also want a confusion matrix to see how the model is performing on the different classes."
   ]
  },
  {
   "cell_type": "code",
   "execution_count": 22,
   "metadata": {},
   "outputs": [],
   "source": [
    "from mads_hackathon.metrics import caluclate_cfm"
   ]
  },
  {
   "cell_type": "markdown",
   "metadata": {},
   "source": [
    "We set the mlflow server to log the results"
   ]
  },
  {
   "cell_type": "code",
   "execution_count": 23,
   "metadata": {},
   "outputs": [],
   "source": [
    "import mlflow\n",
    "# mlflow.set_tracking_uri(uri)\n",
    "# mlflow.set_experiment(\"Test-Sven-with-no-weights\")"
   ]
  },
  {
   "cell_type": "code",
   "execution_count": 24,
   "metadata": {},
   "outputs": [
    {
     "data": {
      "text/plain": [
       "CNNConfig(matrixshape=(3, 48), batchsize=64, input_channels=1, hidden=16, kernel_size=3, maxpool=2, num_layers=1, num_classes=5)"
      ]
     },
     "execution_count": 24,
     "metadata": {},
     "output_type": "execute_result"
    }
   ],
   "source": [
    "config = Config(\n",
    "    matrixshape = (3,48),\n",
    "    batchsize = 64,\n",
    "    input_channels = 1,\n",
    "    hidden = 16,\n",
    "    kernel_size = 3,\n",
    "    maxpool = 2,\n",
    "    num_layers = 1,\n",
    "    num_classes = 5,\n",
    ")\n",
    "config"
   ]
  },
  {
   "cell_type": "markdown",
   "metadata": {},
   "source": [
    "Please dont just run the cell below, but walk trough what is being logged.\n",
    "For example, you might want to change the tag for the model and the dataset if you make changes there, and \n",
    "to the scheduler/earlystop if you are using it."
   ]
  },
  {
   "cell_type": "code",
   "execution_count": 25,
   "metadata": {},
   "outputs": [
    {
     "name": "stderr",
     "output_type": "stream",
     "text": [
      "\u001b[32m2024-11-25 16:45:17.237\u001b[0m | \u001b[1mINFO    \u001b[0m | \u001b[36mmltrainer.trainer\u001b[0m:\u001b[36mdir_add_timestamp\u001b[0m:\u001b[36m29\u001b[0m - \u001b[1mLogging to logs/heart2D/20241125-164517\u001b[0m\n",
      "100%|\u001b[38;2;30;71;6m██████████\u001b[0m| 5661/5661 [00:15<00:00, 358.27it/s]\n",
      "\u001b[32m2024-11-25 16:45:35.131\u001b[0m | \u001b[1mINFO    \u001b[0m | \u001b[36mmltrainer.trainer\u001b[0m:\u001b[36mreport\u001b[0m:\u001b[36m191\u001b[0m - \u001b[1mEpoch 0 train 0.3819 test 0.3674 metric ['0.8694', '0.8694', '0.6644', '0.6373', '0.8875']\u001b[0m\n",
      "100%|\u001b[38;2;30;71;6m██████████\u001b[0m| 5661/5661 [00:15<00:00, 370.07it/s]\n",
      "\u001b[32m2024-11-25 16:45:51.358\u001b[0m | \u001b[1mINFO    \u001b[0m | \u001b[36mmltrainer.trainer\u001b[0m:\u001b[36mreport\u001b[0m:\u001b[36m191\u001b[0m - \u001b[1mEpoch 1 train 0.2298 test 0.4057 metric ['0.8514', '0.8514', '0.6526', '0.6332', '0.8984']\u001b[0m\n",
      "100%|\u001b[38;2;30;71;6m██████████\u001b[0m| 5661/5661 [00:15<00:00, 364.41it/s]\n",
      "\u001b[32m2024-11-25 16:46:07.849\u001b[0m | \u001b[1mINFO    \u001b[0m | \u001b[36mmltrainer.trainer\u001b[0m:\u001b[36mreport\u001b[0m:\u001b[36m191\u001b[0m - \u001b[1mEpoch 2 train 0.1842 test 0.3339 metric ['0.8835', '0.8835', '0.6614', '0.6272', '0.9001']\u001b[0m\n",
      "100%|\u001b[38;2;30;71;6m██████████\u001b[0m| 5661/5661 [00:14<00:00, 382.19it/s]\n",
      "\u001b[32m2024-11-25 16:46:23.625\u001b[0m | \u001b[1mINFO    \u001b[0m | \u001b[36mmltrainer.trainer\u001b[0m:\u001b[36mreport\u001b[0m:\u001b[36m191\u001b[0m - \u001b[1mEpoch 3 train 0.1552 test 0.2509 metric ['0.9167', '0.9167', '0.7259', '0.7059', '0.9122']\u001b[0m\n",
      "100%|\u001b[38;2;30;71;6m██████████\u001b[0m| 5661/5661 [00:16<00:00, 351.75it/s]\n",
      "\u001b[32m2024-11-25 16:46:40.688\u001b[0m | \u001b[1mINFO    \u001b[0m | \u001b[36mmltrainer.trainer\u001b[0m:\u001b[36mreport\u001b[0m:\u001b[36m191\u001b[0m - \u001b[1mEpoch 4 train 0.1312 test 0.2221 metric ['0.9287', '0.9287', '0.7416', '0.7262', '0.9132']\u001b[0m\n",
      "100%|\u001b[38;2;30;71;6m██████████\u001b[0m| 5/5 [01:22<00:00, 16.50s/it]\n"
     ]
    },
    {
     "data": {
      "text/plain": [
       "[Text(0.5, 23.52222222222222, 'Predicted'),\n",
       " Text(50.722222222222214, 0.5, 'Target')]"
      ]
     },
     "execution_count": 25,
     "metadata": {},
     "output_type": "execute_result"
    },
    {
     "data": {
      "image/png": "[encoded data removed]",
      "text/plain": [
       "<Figure size 640x480 with 2 Axes>"
      ]
     },
     "metadata": {},
     "output_type": "display_data"
    }
   ],
   "source": [
    "from mltrainer import Trainer, TrainerSettings, ReportTypes\n",
    "from dataclasses import asdict\n",
    "\n",
    "loss_fn = torch.nn.CrossEntropyLoss()\n",
    "\n",
    "with mlflow.start_run():\n",
    "    optimizer = torch.optim.Adam\n",
    "\n",
    "    settings = TrainerSettings(\n",
    "        epochs=5,\n",
    "        metrics=[accuracy, f1micro, f1macro, precision, recall],\n",
    "        logdir=\"logs/heart2D\",\n",
    "        train_steps=len(trainstreamer),\n",
    "        valid_steps=len(teststreamer),\n",
    "        reporttypes=[ReportTypes.TENSORBOARD, ReportTypes.MLFLOW],\n",
    "        scheduler_kwargs=None,\n",
    "        earlystop_kwargs=None\n",
    "    )\n",
    "\n",
    "    # modify the tags when you change them!\n",
    "    mlflow.set_tag(\"model\", \"CNN\")\n",
    "    mlflow.set_tag(\"dataset\", \"heart2D\")\n",
    "    mlflow.set_tag(\"dev\", dev)\n",
    "    mlflow.log_param(\"scheduler\", \"None\")\n",
    "    mlflow.log_param(\"earlystop\", \"None\")\n",
    "\n",
    "    mlflow.log_params(asdict(config))\n",
    "    mlflow.log_param(\"epochs\", settings.epochs)\n",
    "    mlflow.log_param(\"matrix0\", config.matrixshape[0])\n",
    "    mlflow.log_param(\"matrix1\", config.matrixshape[1])\n",
    "    mlflow.log_param(\"optimizer\", str(optimizer))\n",
    "    mlflow.log_params(settings.optimizer_kwargs)\n",
    "\n",
    "    trainer = Trainer(\n",
    "        model=model,\n",
    "        settings=settings,\n",
    "        loss_fn=loss_fn,\n",
    "        optimizer=optimizer,\n",
    "        traindataloader=trainstreamer.stream(),\n",
    "        validdataloader=teststreamer.stream(),\n",
    "        scheduler=None,\n",
    "        device=device,\n",
    "        )\n",
    "    trainer.loop()\n",
    "    cfm = caluclate_cfm(model, teststreamer)\n",
    "    for i, tp in enumerate(np.diag(cfm)):\n",
    "        mlflow.log_metric(f\"TP_{i}\", tp)\n",
    "\n",
    "plot = sns.heatmap(cfm, annot=cfm, fmt=\".3f\")\n",
    "plot.set(xlabel=\"Predicted\", ylabel=\"Target\")"
   ]
  },
  {
   "cell_type": "markdown",
   "metadata": {},
   "source": [
    "Please note that, while the TP score for class 0 does get high without much effort, the challenge here will be in the other classes that lag behind."
   ]
  }
 ],
 "metadata": {
  "kernelspec": {
   "display_name": ".venv",
   "language": "python",
   "name": "python3"
  },
  "language_info": {
   "codemirror_mode": {
    "name": "ipython",
    "version": 3
   },
   "file_extension": ".py",
   "mimetype": "text/x-python",
   "name": "python",
   "nbconvert_exporter": "python",
   "pygments_lexer": "ipython3",
   "version": "3.11.10"
  }
 },
 "nbformat": 4,
 "nbformat_minor": 2
}
